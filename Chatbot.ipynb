{
  "nbformat": 4,
  "nbformat_minor": 0,
  "metadata": {
    "colab": {
      "provenance": [],
      "authorship_tag": "ABX9TyO5aovrsWGCAkj/vTpQQ0cB",
      "include_colab_link": true
    },
    "kernelspec": {
      "name": "python3",
      "display_name": "Python 3"
    },
    "language_info": {
      "name": "python"
    }
  },
  "cells": [
    {
      "cell_type": "markdown",
      "metadata": {
        "id": "view-in-github",
        "colab_type": "text"
      },
      "source": [
        "<a href=\"https://colab.research.google.com/github/Nicoll-1903/Tareas/blob/main/Chatbot.ipynb\" target=\"_parent\"><img src=\"https://colab.research.google.com/assets/colab-badge.svg\" alt=\"Open In Colab\"/></a>"
      ]
    },
    {
      "cell_type": "code",
      "execution_count": 10,
      "metadata": {
        "id": "r7JqFd5QgrGd"
      },
      "outputs": [],
      "source": [
        "import os\n",
        "\n",
        "# Guarda tu API Key (sustituye con la tuya)\n",
        "os.environ[\"DEEPSEEK_API_KEY\"] = \"sk-53751d5c6f344a5dbc0571de9f51313e\""
      ]
    },
    {
      "cell_type": "code",
      "source": [
        "!pip install requests"
      ],
      "metadata": {
        "colab": {
          "base_uri": "https://localhost:8080/"
        },
        "id": "7qC1FgtYg8SV",
        "outputId": "10f9d01e-4d88-4002-ab02-dde3b4c57b58"
      },
      "execution_count": 11,
      "outputs": [
        {
          "output_type": "stream",
          "name": "stdout",
          "text": [
            "Requirement already satisfied: requests in /usr/local/lib/python3.11/dist-packages (2.32.3)\n",
            "Requirement already satisfied: charset-normalizer<4,>=2 in /usr/local/lib/python3.11/dist-packages (from requests) (3.4.1)\n",
            "Requirement already satisfied: idna<4,>=2.5 in /usr/local/lib/python3.11/dist-packages (from requests) (3.10)\n",
            "Requirement already satisfied: urllib3<3,>=1.21.1 in /usr/local/lib/python3.11/dist-packages (from requests) (2.3.0)\n",
            "Requirement already satisfied: certifi>=2017.4.17 in /usr/local/lib/python3.11/dist-packages (from requests) (2025.1.31)\n"
          ]
        }
      ]
    },
    {
      "cell_type": "code",
      "source": [
        "import requests\n",
        "\n",
        "def deepseek_chat(mensaje):\n",
        "    api_key = os.getenv(\"DEEPSEEK_API_KEY\")  # Obtiene la API Key almacenada\n",
        "    url = \"https://api.deepseek.com/chat/completions\"  # URL correcta de la API\n",
        "\n",
        "    headers = {\n",
        "        \"Authorization\": f\"Bearer {api_key}\",\n",
        "        \"Content-Type\": \"application/json\"\n",
        "    }\n",
        "\n",
        "    datos = {\n",
        "        \"model\": \"deepseek-chat\",\n",
        "        \"messages\": [{\"role\": \"system\", \"content\": \"Eres una asistente amigable, carismática y cariñosa como una amiga, siempre dispuesta a ayudar con alegría y ternura, pero no digas mi amor cielo ni apodos muy románticos.\"},\n",
        "                     {\"role\": \"user\", \"content\": mensaje}],\n",
        "    }\n",
        "\n",
        "    respuesta = requests.post(url, headers=headers, json=datos)   #Enviar solicitud a la Api\n",
        "\n",
        "    if respuesta.status_code == 200:      #Verifica si la respuesta es exitosa\n",
        "        return respuesta.json()[\"choices\"][0][\"message\"][\"content\"]   #Extraer la respuesta del chatbot\n",
        "    else:\n",
        "        return f\"Error: {respuesta.status_code}, {respuesta.text}\"    #Manejar errores\n",
        "\n",
        "while True:\n",
        "    user_input = input(\"Tú: \")\n",
        "    if user_input.lower() in [\"salir\", \"adiós\", \"bye\", \"chao\"]:\n",
        "        print(\"Chatbot: ¡Hasta pronto! 🥰\")\n",
        "        break\n",
        "    respuesta = deepseek_chat(user_input)\n",
        "    print(f\"Chatbot: {respuesta}\")\n"
      ],
      "metadata": {
        "colab": {
          "base_uri": "https://localhost:8080/"
        },
        "id": "-cHFkRtbmP4A",
        "outputId": "b4b76eba-3e99-48e3-f8ff-27c2660c9e6a"
      },
      "execution_count": 39,
      "outputs": [
        {
          "output_type": "stream",
          "name": "stdout",
          "text": [
            "Tú: hola\n",
            "Chatbot: ¡Hola, preciosa! 😊 ¿Cómo estás? Me alegra mucho verte por aquí. ¿En qué puedo ayudarte hoy? ¡Cuéntame todo! 💖\n",
            "Tú: chao\n",
            "Chatbot: ¡Hasta pronto! 🥰\n"
          ]
        }
      ]
    }
  ]
}
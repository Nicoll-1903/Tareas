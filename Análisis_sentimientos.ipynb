{
  "nbformat": 4,
  "nbformat_minor": 0,
  "metadata": {
    "colab": {
      "provenance": [],
      "authorship_tag": "ABX9TyPXErzUUdbB/XBzgQS4eCMu",
      "include_colab_link": true
    },
    "kernelspec": {
      "name": "python3",
      "display_name": "Python 3"
    },
    "language_info": {
      "name": "python"
    }
  },
  "cells": [
    {
      "cell_type": "markdown",
      "metadata": {
        "id": "view-in-github",
        "colab_type": "text"
      },
      "source": [
        "<a href=\"https://colab.research.google.com/github/Nicoll-1903/Tareas/blob/main/An%C3%A1lisis_sentimientos.ipynb\" target=\"_parent\"><img src=\"https://colab.research.google.com/assets/colab-badge.svg\" alt=\"Open In Colab\"/></a>"
      ]
    },
    {
      "cell_type": "markdown",
      "source": [
        "El análisis de sentimientos en este caso se aplica a una serie de frases que reflejan las opiniones y emociones de los estudiantes sobre su experiencia en un curso o proyecto académico. Estas frases incluyen comentarios sobre la dificultad del contenido, la claridad de las explicaciones, la motivación que genera el curso, el nivel de estrés y frustración, o la satisfacción y el aprendizaje obtenido.\n",
        "\n",
        "Los comentarios pueden expresar emociones positivas, como entusiasmo o satisfacción, o negativas, como aburrimiento o frustración. También pueden ser neutros, cuando la frase no tiene una inclinación clara hacia un sentimiento específico."
      ],
      "metadata": {
        "id": "cjA2486AiK8k"
      }
    },
    {
      "cell_type": "code",
      "execution_count": null,
      "metadata": {
        "colab": {
          "base_uri": "https://localhost:8080/"
        },
        "id": "DM6Orih9NMrY",
        "outputId": "f37a6792-1ff5-46fd-f63a-2d633e9e2a84"
      },
      "outputs": [
        {
          "output_type": "stream",
          "name": "stdout",
          "text": [
            "Resultados del análisis de sentimientos:\n",
            "\n",
            "Frase: La materia es difícil, pero el profesor explica claro y es motivador.\n",
            " - Positivo: 0.39\n",
            " - Negativo: 0.22\n",
            " - Neutral: 0.39\n",
            " - Sentimiento: Positivo\n",
            "\n",
            "Frase: Me parece una materia muy interesante y satisfactoria.\n",
            " - Positivo: 0.368\n",
            " - Negativo: 0.0\n",
            " - Neutral: 0.632\n",
            " - Sentimiento: Positivo\n",
            "\n",
            "Frase: Las clases son aburridas y confusas, no entiendo nada.\n",
            " - Positivo: 0.0\n",
            " - Negativo: 0.417\n",
            " - Neutral: 0.583\n",
            " - Sentimiento: Negativo\n",
            "\n",
            "Frase: El examen fue extremadamente pesado y estresante, me frustró.\n",
            " - Positivo: 0.0\n",
            " - Negativo: 0.556\n",
            " - Neutral: 0.444\n",
            " - Sentimiento: Negativo\n",
            "\n",
            "Frase: Aprendí mucho, aunque al principio era bastante frustrante.\n",
            " - Positivo: 0.286\n",
            " - Negativo: 0.286\n",
            " - Neutral: 0.429\n",
            " - Sentimiento: Neutral\n",
            "\n",
            "Frase: El profesor es excelente, explica de manera fácil y divertida.\n",
            " - Positivo: 0.333\n",
            " - Negativo: 0.0\n",
            " - Neutral: 0.667\n",
            " - Sentimiento: Positivo\n",
            "\n",
            "Frase: No me gusta la materia, es demasiado complicada y aburrida.\n",
            " - Positivo: 0.0\n",
            " - Negativo: 0.385\n",
            " - Neutral: 0.615\n",
            " - Sentimiento: Negativo\n",
            "\n",
            "Frase: Las actividades fueron tediosas, pero aprendí bastante.\n",
            " - Positivo: 0.296\n",
            " - Negativo: 0.333\n",
            " - Neutral: 0.37\n",
            " - Sentimiento: Neutral\n",
            "\n",
            "Frase: El curso fue interesante, aunque algunas partes fueron confusas.\n",
            " - Positivo: 0.304\n",
            " - Negativo: 0.0\n",
            " - Neutral: 0.696\n",
            " - Sentimiento: Positivo\n",
            "Resumen del análisis de sentimientos:\n",
            " - Positivas: 4\n",
            " - Negativas: 3\n",
            " - Neutrales: 2\n"
          ]
        },
        {
          "output_type": "stream",
          "name": "stderr",
          "text": [
            "[nltk_data] Downloading package vader_lexicon to /root/nltk_data...\n",
            "[nltk_data]   Package vader_lexicon is already up-to-date!\n"
          ]
        }
      ],
      "source": [
        "# Instalar y configurar NLTK\n",
        "import nltk\n",
        "from nltk.sentiment import SentimentIntensityAnalyzer\n",
        "\n",
        "# Descargar las dependencias necesarias\n",
        "nltk.download('vader_lexicon')\n",
        "\n",
        "# Inicializar el analizador de sentimientos\n",
        "sia = SentimentIntensityAnalyzer()\n",
        "\n",
        "# Personalización del léxico con términos más específicos\n",
        "custom_words = {\n",
        "    \"difícil\": -3.5, \"fácil\": 3.0, \"estresante\": -3.0, \"interesante\": 2.5,\n",
        "    \"aburrido\": -2.5, \"motivador\": 3.5, \"confuso\": -3.0, \"claro\": 2.5,\n",
        "    \"frustrante\": -3.0, \"divertido\": 3.0, \"pesado\": -2.5, \"complicado\": -3.0,\n",
        "    \"entendible\": 2.0, \"satisfactorio\": 3.5, \"tediosas\": -3.5, \"genial\": 4.0,\n",
        "    \"aprendí\": 3.0, \"no\": -4.0\n",
        "}\n",
        "\n",
        "# Agregar palabras al lexicón de VADER\n",
        "sia.lexicon.update(custom_words)\n",
        "\n",
        "# Frases simuladas de estudiantes\n",
        "frases_estudiantes = [\n",
        "    \"La materia es difícil, pero el profesor explica claro y es motivador.\",\n",
        "    \"Me parece una materia muy interesante y satisfactoria.\",\n",
        "    \"Las clases son aburridas y confusas, no entiendo nada.\",\n",
        "    \"El examen fue extremadamente pesado y estresante, me frustró.\",\n",
        "    \"Aprendí mucho, aunque al principio era bastante frustrante.\",\n",
        "    \"El profesor es excelente, explica de manera fácil y divertida.\",\n",
        "    \"No me gusta la materia, es demasiado complicada y aburrida.\",\n",
        "    \"Las actividades fueron tediosas, pero aprendí bastante.\",\n",
        "    \"El curso fue interesante, aunque algunas partes fueron confusas.\"\n",
        "]\n",
        "\n",
        "# Ajustamos la lógica del análisis de sentimientos\n",
        "resultados = []\n",
        "sentimientos_contador = {\"Positivo\": 0, \"Negativo\": 0, \"Neutral\": 0}\n",
        "\n",
        "# Ajuste de umbrales para mejorar precisión\n",
        "umbral_positivo = 0.2\n",
        "umbral_negativo = -0.2\n",
        "\n",
        "for frase in frases_estudiantes:\n",
        "    puntajes = sia.polarity_scores(frase)\n",
        "    sentimiento = \"Neutral\"\n",
        "\n",
        "    if puntajes['compound'] > umbral_positivo:\n",
        "        sentimiento = \"Positivo\"\n",
        "    elif puntajes['compound'] < umbral_negativo:\n",
        "        sentimiento = \"Negativo\"\n",
        "\n",
        "    sentimientos_contador[sentimiento] += 1\n",
        "\n",
        "    resultados.append({\n",
        "        \"frase\": frase,\n",
        "        \"positivo\": puntajes['pos'],\n",
        "        \"negativo\": puntajes['neg'],\n",
        "        \"neutral\": puntajes['neu'],\n",
        "        \"sentimiento\": sentimiento\n",
        "    })\n",
        "\n",
        "# Mostrar resultados\n",
        "print(\"Resultados del análisis de sentimientos:\")\n",
        "for r in resultados:\n",
        "    print(f\"\\nFrase: {r['frase']}\")\n",
        "    print(f\" - Positivo: {r['positivo']}\")\n",
        "    print(f\" - Negativo: {r['negativo']}\")\n",
        "    print(f\" - Neutral: {r['neutral']}\")\n",
        "    print(f\" - Sentimiento: {r['sentimiento']}\")\n",
        "\n",
        "#Resumen de frases\n",
        "print(\"Resumen del análisis de sentimientos:\")\n",
        "print(f\" - Positivas: {sentimientos_contador['Positivo']}\")\n",
        "print(f\" - Negativas: {sentimientos_contador['Negativo']}\")\n",
        "print(f\" - Neutrales: {sentimientos_contador['Neutral']}\")"
      ]
    }
  ]
}
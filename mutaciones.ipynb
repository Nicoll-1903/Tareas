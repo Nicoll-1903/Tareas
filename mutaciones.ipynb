{
  "nbformat": 4,
  "nbformat_minor": 0,
  "metadata": {
    "colab": {
      "provenance": [],
      "authorship_tag": "ABX9TyN+kZg6WZbppsQGre12x3im",
      "include_colab_link": true
    },
    "kernelspec": {
      "name": "python3",
      "display_name": "Python 3"
    },
    "language_info": {
      "name": "python"
    }
  },
  "cells": [
    {
      "cell_type": "markdown",
      "metadata": {
        "id": "view-in-github",
        "colab_type": "text"
      },
      "source": [
        "<a href=\"https://colab.research.google.com/github/Nicoll-1903/Tareas/blob/main/mutaciones.ipynb\" target=\"_parent\"><img src=\"https://colab.research.google.com/assets/colab-badge.svg\" alt=\"Open In Colab\"/></a>"
      ]
    },
    {
      "cell_type": "code",
      "source": [
        "def leer_referencia(archivo):\n",
        "    with open(archivo, 'r') as file:\n",
        "        return file.readline().strip()\n",
        "\n",
        "def leer_datos_sensor(archivo):\n",
        "    with open(archivo, 'r') as file:\n",
        "        return [line.strip() for line in file.readlines()]\n",
        "\n",
        "def detectar_mutaciones(ref, muestra):\n",
        "    mutaciones = []\n",
        "    for i, (r, m) in enumerate(zip(ref, muestra)):\n",
        "        if r != m:\n",
        "            mutaciones.append((i, r, m))  # posición, base esperada, base detectada\n",
        "    return mutaciones\n",
        "\n",
        "# Leer archivos subidos\n",
        "referencia = leer_referencia('referencia.txt')\n",
        "muestras = leer_datos_sensor('sensor_data.txt')\n",
        "\n",
        "# Mostrar resultados\n",
        "print(\"Comparando lecturas del sensor con la secuencia de referencia...\\n\")\n",
        "for idx, muestra in enumerate(muestras):\n",
        "    mutaciones = detectar_mutaciones(referencia, muestra)\n",
        "    if mutaciones:\n",
        "        print(f\"Lectura {idx + 1}: Se detectaron mutaciones:\")\n",
        "        for pos, esperado, recibido in mutaciones:\n",
        "            print(f\"  - Posición {pos}: esperado '{esperado}', recibido '{recibido}'\")\n",
        "    else:\n",
        "        print(f\"Lectura {idx + 1}: Sin mutaciones detectadas.\")\n",
        "    print(\"-\" * 50)\n"
      ],
      "metadata": {
        "colab": {
          "base_uri": "https://localhost:8080/"
        },
        "id": "n3y1x7SICMS8",
        "outputId": "4b2298a9-49cb-4ce7-f9cc-39413bfaf78f"
      },
      "execution_count": 13,
      "outputs": [
        {
          "output_type": "stream",
          "name": "stdout",
          "text": [
            "Comparando lecturas del sensor con la secuencia de referencia...\n",
            "\n",
            "Lectura 1: Se detectaron mutaciones:\n",
            "  - Posición 6: esperado 'C', recibido 'G'\n",
            "  - Posición 9: esperado 'G', recibido 'A'\n",
            "  - Posición 10: esperado 'A', recibido 'X'\n",
            "--------------------------------------------------\n",
            "Lectura 2: Se detectaron mutaciones:\n",
            "  - Posición 6: esperado 'C', recibido 'A'\n",
            "  - Posición 9: esperado 'G', recibido 'A'\n",
            "--------------------------------------------------\n",
            "Lectura 3: Se detectaron mutaciones:\n",
            "  - Posición 4: esperado 'T', recibido 'X'\n",
            "  - Posición 5: esperado 'A', recibido 'G'\n",
            "  - Posición 6: esperado 'C', recibido 'G'\n",
            "  - Posición 9: esperado 'G', recibido 'A'\n",
            "--------------------------------------------------\n",
            "Lectura 4: Sin mutaciones detectadas.\n",
            "--------------------------------------------------\n",
            "Lectura 5: Se detectaron mutaciones:\n",
            "  - Posición 0: esperado 'A', recibido 'C'\n",
            "--------------------------------------------------\n"
          ]
        }
      ]
    },
    {
      "cell_type": "code",
      "source": [],
      "metadata": {
        "id": "Xeu_kKQ2DMzx"
      },
      "execution_count": null,
      "outputs": []
    }
  ]
}